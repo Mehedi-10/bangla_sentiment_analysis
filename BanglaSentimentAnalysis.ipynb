{
  "nbformat": 4,
  "nbformat_minor": 0,
  "metadata": {
    "colab": {
      "provenance": []
    },
    "kernelspec": {
      "name": "python3",
      "display_name": "Python 3"
    },
    "language_info": {
      "name": "python"
    }
  },
  "cells": [
    {
      "cell_type": "code",
      "execution_count": 12,
      "metadata": {
        "id": "tqxUPBlzTaTz",
        "cellView": "form"
      },
      "outputs": [],
      "source": [
        "#@title\n",
        "pip install bnlp_toolkit"
      ]
    },
    {
      "cell_type": "code",
      "source": [
        "#@title\n",
        "pip install mtranslate"
      ],
      "metadata": {
        "cellView": "form",
        "id": "c16Z9mGtJ0QW"
      },
      "execution_count": null,
      "outputs": []
    },
    {
      "cell_type": "code",
      "source": [
        "#@title\n",
        "from sys import exec_prefix\n",
        "from bnlp.corpus import stopwords,punctuations\n",
        "from bnlp.corpus.util import remove_stopwords\n",
        "from mtranslate import translate\n",
        "import nltk\n",
        "from nltk.sentiment import SentimentIntensityAnalyzer\n",
        "nltk.download('stopwords')\n",
        "nltk.download('vader_lexicon')"
      ],
      "metadata": {
        "cellView": "form",
        "id": "4oLNvFSaJmB2"
      },
      "execution_count": null,
      "outputs": []
    },
    {
      "cell_type": "code",
      "source": [
        "\n",
        "raw_text = '''কুমিল্লার নাঙ্গলকোট উপজেলার হাসানপুর রেলস্টেশনে দাঁড়িয়ে থাকা একটি মালবাহী ট্রেনকে পেছন থেকে ধাক্কা দিয়েছে চট্টগ্রাম থেকে ছেড়ে আসা যাত্রীবাহী ‘সোনার বাংলা এক্সপ্রেস’ ট্রেন। আজ রোববার সন্ধ্যা সাড়ে ছয়টার দিকে ঢাকা-চট্টগ্রাম রেলপথে এ দুর্ঘটনা ঘটে। এতে ‘সোনার বাংলা এক্সপ্রেস’ ট্রেনের ইঞ্জিনসহ পাঁচটি বগি লাইনচ্যুত হয়।\n",
        "\n",
        "দুর্ঘটনায় অন্তত ৫০ জন আহত হয়েছেন। তাঁদের মধ্যে ছয়জনের অবস্থা গুরুতর বলে জানা গেছে। আহত ব্যক্তিদের উদ্ধার করে নাঙ্গলকোট উপজেলা স্বাস্থ্য কমপ্লেক্সসহ স্থানীয় বিভিন্ন হাসপাতালে ভর্তি করা হয়েছে। এ ঘটনার পর চট্টগ্রামের সঙ্গে সারা দেশের রেল যোগাযোগ বন্ধ হয়ে গেছে।\n",
        "\n",
        "রেলওয়ের একাধিক কর্মকর্তা ও স্থানীয় সূত্রে জানা গেছে, নাঙ্গলকোট উপজেলার হাসানপুর রেলওয়ে স্টেশনে মালবাহী একটি ট্রেন দাঁড়ানো ছিল। মালবাহী ট্রেনের লাইনেই চট্টগ্রাম থেকে ছেড়ে আসা ঢাকাগামী ‘সোনার বাংলা এক্সপ্রেস’ ট্রেনটি ঢুকে পড়ে। এ সময় সোনার বাংলা ট্রেনটি মালবাহী ট্রেনটির পেছন থেকে ধাক্কা দেয়। এতে যাত্রীবাহী ট্রেনটির ইঞ্জিনসহ পাঁচটি বগি লাইনচ্যুত হয়ে রেললাইনের পাশে ছিটকে পড়ে।\n",
        "\n",
        "নাম প্রকাশ না করার শর্তে রেলওয়ের এক কর্মচারী বলেন, রেলওয়ে স্টেশন থেকে সিগন্যাল ঠিক না করায় এ দুর্ঘটনা ঘটে। যে লাইনে মালগাড়িটি আছে, সেই লাইনে যাত্রীবাহী ট্রেন কীভাবে ঢোকে? স্টেশন কর্তৃপক্ষের অবহেলার কারণেই দুর্ঘটনা ঘটেছে।\n",
        "\n",
        "নাঙ্গলকোট রেলওয়ে স্টেশনের মাস্টার মাহমুদুল হক দুর্ঘটনার বিষয়টি প্রথম আলোকে নিশ্চিত করেছেন। তবে তিনি তাৎক্ষণিকভাবে বিস্তারিত কিছু জানাননি। এ ঘটনার পর কুমিল্লা ও লাকসাম থেকে রেলওয়ের কর্মকর্তারা ঘটনাস্থলে পৌঁছেছেন। চট্টগ্রাম থেকে একটি দল ঘটনাস্থল পরিদর্শনে রওনা দিয়েছে।\n",
        "\n",
        "নাঙ্গলকোট উপজেলা নির্বাহী কর্মকর্তা (ইউএনও) রায়হান মেহেবুব প্রথম আলোকে বলেন, ‘দুর্ঘটনার খবর পেয়ে রেলস্টেশনে এসেছি। দুর্ঘটনায় যাত্রীবাহী সোনার বাংলা ট্রেনের অর্ধশতাধিক যাত্রী আহত হয়েছেন। তাঁদের মধ্যে ঢালুয়ার একটি ফার্মেসিতে প্রায় ২০ জন যাত্রী প্রাথমিক চিকিৎসা নিয়েছেন। আহত অন্যদের উদ্ধার করে লাকসাম ও কুমিল্লার বিভিন্ন হাসপাতালে পাঠানো হচ্ছে। এখন পর্যন্ত নিহত হওয়ার কোনো খবর পাওয়া যায়নি।’'''"
      ],
      "metadata": {
        "id": "aoRYo75BUbAt"
      },
      "execution_count": 21,
      "outputs": []
    },
    {
      "cell_type": "code",
      "source": [
        "#@title\n",
        "result = remove_stopwords(raw_text, stopwords)\n",
        "mod_result=[]\n",
        "for i in result:\n",
        "  if not i in punctuations:\n",
        "    mod_result.append(i)"
      ],
      "metadata": {
        "id": "8RWTxKIZrUnf",
        "cellView": "form"
      },
      "execution_count": 22,
      "outputs": []
    },
    {
      "cell_type": "code",
      "source": [
        "#@title\n",
        "\n",
        "New_mod=''\n",
        "for i in range(len(mod_result)):\n",
        "  New_mod+= translate(mod_result[i], 'en', 'auto')+' '"
      ],
      "metadata": {
        "id": "k6Urkwgihs_q",
        "cellView": "form"
      },
      "execution_count": 23,
      "outputs": []
    },
    {
      "cell_type": "code",
      "source": [
        "#@title\n",
        "sia = SentimentIntensityAnalyzer()\n",
        "\n",
        "# Bangla Text Input\n",
        "\n",
        "# Performing sentiment analysis\n",
        "scores = sia.polarity_scores(New_mod)\n",
        "\n",
        "# Displaying sentiment scores\n",
        "print(scores)"
      ],
      "metadata": {
        "colab": {
          "base_uri": "https://localhost:8080/"
        },
        "id": "rMSJaSnTsATs",
        "outputId": "92dcbfc3-9eba-46a5-d044-0f01f9b90d25",
        "cellView": "form"
      },
      "execution_count": 24,
      "outputs": [
        {
          "output_type": "stream",
          "name": "stdout",
          "text": [
            "{'neg': 0.13, 'neu': 0.837, 'pos': 0.032, 'compound': -0.9851}\n"
          ]
        }
      ]
    }
  ]
}